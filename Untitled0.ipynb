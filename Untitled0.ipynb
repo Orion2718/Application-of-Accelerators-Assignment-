{
  "nbformat": 4,
  "nbformat_minor": 0,
  "metadata": {
    "colab": {
      "provenance": []
    },
    "kernelspec": {
      "name": "python3",
      "display_name": "Python 3"
    },
    "language_info": {
      "name": "python"
    }
  },
  "cells": [
    {
      "cell_type": "code",
      "execution_count": 1,
      "metadata": {
        "colab": {
          "base_uri": "https://localhost:8080/"
        },
        "id": "6oQOVnb7LibX",
        "outputId": "ec99aef3-6286-4cc6-b0cf-339b3e9161c8"
      },
      "outputs": [
        {
          "output_type": "stream",
          "name": "stdout",
          "text": [
            "Mass number = 238\n",
            "Number of protons = 92\n",
            "\n",
            "\n",
            "Neutrons =  146\n"
          ]
        }
      ],
      "source": [
        "class test:\n",
        "    \n",
        "    def __init__(self, x, y):\n",
        "        self.x = x\n",
        "        \n",
        "        self.y = y\n",
        "        \n",
        "        self.n = self.x - self.y\n",
        "    \n",
        "    def Print(self):\n",
        "      print('\\n\\nNeutrons = ',self.n)\n",
        "\n",
        "t1=test(x=int(input('Mass number = ')) ,y=int(input('Number of protons = ')))\n",
        "t1.Print()"
      ]
    }
  ]
}
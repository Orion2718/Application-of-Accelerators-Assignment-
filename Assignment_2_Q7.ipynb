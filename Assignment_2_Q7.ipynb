{
  "nbformat": 4,
  "nbformat_minor": 0,
  "metadata": {
    "colab": {
      "provenance": []
    },
    "kernelspec": {
      "name": "python3",
      "display_name": "Python 3"
    },
    "language_info": {
      "name": "python"
    }
  },
  "cells": [
    {
      "cell_type": "markdown",
      "source": [
        "# Q7 - [2 point]:\n",
        "\n",
        "Write a **super small** python class for a particle, *don't forget the init*, by giving Z and A. this class should have a method which gives the number of neutron back. Instantiate this class with an example."
      ],
      "metadata": {
        "id": "cLsJ39rFYFuL"
      }
    },
    {
      "cell_type": "markdown",
      "source": [
        "\n",
        "\n",
        "---\n",
        "---\n",
        "# Class\n",
        "\n",
        "Define the **class**"
      ],
      "metadata": {
        "id": "NDyaLPPD4ua-"
      }
    },
    {
      "cell_type": "code",
      "source": [
        "class Nuclide:\n",
        "    def __init__(self, Nucleons_A, Protons_Z):\n",
        "        self.Protons_Z = Protons_Z\n",
        "        self.Nucleons_A = Nucleons_A\n",
        "    def neu(self): return self.Nucleons_A - self.Protons_Z"
      ],
      "metadata": {
        "id": "cF095n4Oxcr2"
      },
      "execution_count": 14,
      "outputs": []
    },
    {
      "cell_type": "markdown",
      "source": [
        "\n",
        "\n",
        "---\n",
        "# Input\n",
        "\n",
        "input the number of nucleons and protons\n",
        "\n"
      ],
      "metadata": {
        "id": "S_e35Pniy0Yd"
      }
    },
    {
      "cell_type": "code",
      "source": [
        "N = int(input(\"Input the number of nucleons(A): \"))  # 241\n",
        "P = int(input(\"Input the number of protons (Z): \"))  # 95\n",
        "Neutrons = Nuclide(N, P)\n",
        "print(\"\\nNumber of neutrons (N) in the nucleus :\",Neutrons.neu())"
      ],
      "metadata": {
        "colab": {
          "base_uri": "https://localhost:8080/"
        },
        "id": "c-fXhcq7yio0",
        "outputId": "0b4e1687-28e5-4190-e8e5-039fc42f5c45"
      },
      "execution_count": 13,
      "outputs": [
        {
          "output_type": "stream",
          "name": "stdout",
          "text": [
            "Input the number of nucleons(A): 241\n",
            "Input the number of protons (Z): 95\n",
            "\n",
            "Number of neutrons (N) in the nucleus : 146\n"
          ]
        }
      ]
    }
  ]
}
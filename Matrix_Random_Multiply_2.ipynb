{
  "nbformat": 4,
  "nbformat_minor": 0,
  "metadata": {
    "colab": {
      "provenance": []
    },
    "kernelspec": {
      "name": "python3",
      "display_name": "Python 3"
    },
    "language_info": {
      "name": "python"
    }
  },
  "cells": [
    {
      "cell_type": "code",
      "execution_count": 32,
      "metadata": {
        "colab": {
          "base_uri": "https://localhost:8080/"
        },
        "id": "8Ck-p965SeMv",
        "outputId": "e3b95933-4abf-4522-ca44-efb98ebaab73"
      },
      "outputs": [
        {
          "output_type": "stream",
          "name": "stdout",
          "text": [
            "matrix1 =\n",
            "[5, 4, 3]\n",
            "[9, 8, 9]\n",
            "[0, 8, 1]\n",
            "\n",
            "matrix2 =\n",
            "[9, 7, 3]\n",
            "[5, 9, 2]\n",
            "[7, 4, 9]\n",
            "\n",
            "\n",
            "answer =\n",
            "[86 83 50]\n",
            "[184 171 124]\n",
            "[47 76 25]\n"
          ]
        }
      ],
      "source": [
        "\n",
        "import random\n",
        "import numpy\n",
        " \n",
        "matrix1 = []\n",
        "matrix2 = []\n",
        "answer = [[0]*3]*3\n",
        "\n",
        "\n",
        "for i in range(3):\n",
        "    a =[]\n",
        "    for j in range(3):\n",
        "         x=random.randint(0,9)\n",
        "         a.append(int(x))\n",
        "    matrix1.append(a)\n",
        "\n",
        "print(\"matrix1 =\")\n",
        "for t in matrix1:\n",
        "\tprint(t)\n",
        "\n",
        "\n",
        "\n",
        "for i in range(3):\n",
        "    b =[]\n",
        "    for j in range(3):\n",
        "         y=random.randint(0,9)\n",
        "         b.append(int(y))\n",
        "    matrix2.append(b)\n",
        "\n",
        "print(\"\\nmatrix2 =\")\n",
        "for s in matrix2:\n",
        "\tprint(s)\n",
        "\n",
        "\n",
        "answer = numpy.dot(matrix1,matrix2)\n",
        "\n",
        "print(\"\\n\\nanswer =\")\n",
        "for r in answer:\n",
        "\tprint(r)"
      ]
    }
  ]
}
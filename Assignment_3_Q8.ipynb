{
  "nbformat": 4,
  "nbformat_minor": 0,
  "metadata": {
    "colab": {
      "provenance": []
    },
    "kernelspec": {
      "name": "python3",
      "display_name": "Python 3"
    },
    "language_info": {
      "name": "python"
    }
  },
  "cells": [
    {
      "cell_type": "markdown",
      "source": [
        "#Q8\n",
        "\n",
        "Q8- [1 point] Write a python function with the name of \"get_rigidity\" to calculate the magnetic rigidity and put your code as usual on your GitHUB and provide the link here. Test your code with the results of the previous exercise!\n",
        "\n",
        "Hint : please write as less code lines as possible by using advanced language features like the decorator \"np.vectorize\" and \"class\""
      ],
      "metadata": {
        "id": "BXVdj7A6Q44H"
      }
    },
    {
      "cell_type": "code",
      "source": [
        "# Assignment 3 - Q8\n",
        "\n",
        "import numpy as np\n",
        "\n",
        "# Constant values\n",
        "\n",
        "c = 299792458 # [m/s]\n",
        "e = 1.602e-19 # [C]\n",
        "rho = 561.6 / (2 * np.pi)\n",
        "epsilon_0 = 8.854e-12 # [F/m]\n",
        "\n",
        "# Function\n",
        "\n",
        "def A_3(A,E,Q):\n",
        "\n",
        "  # Equations\n",
        "\n",
        "  e0 = A *931.5\n",
        "  gamma = A * E /e0 + 1\n",
        "  beta = np.sqrt(1-1/gamma**2)\n",
        "\n",
        "  # -----------------------------------------------------------\n",
        "  Bp = gamma * beta * c * e0 * 1.66e-27 / 931.5 / Q / e\n",
        "  # -----------------------------------------------------------\n",
        "  delta_e = (Q*e)**2 * beta**3 * gamma**4 / 3 / epsilon_0 / rho\n",
        "  # -----------------------------------------------------------\n",
        "  D = np.rad2deg(1/gamma)\n",
        "  # -----------------------------------------------------------\n",
        "\n",
        "  # Printing\n",
        "\n",
        "  print(\"Magnetic Rigidity: =\",round(Bp,5),\"[Tm]\")\n",
        "  print(\"gamma: =\",gamma)\n",
        "  print(\"beta: =\",beta)\n",
        "  print(\"---------------------------------------------------\")\n",
        "  print(\"Energy loss due to synchrotron radiation per turn:\")\n",
        "  print(\"=\",delta_e, \"[J]\\n=\", delta_e * 6.241509e18,\"[eV]\")\n",
        "  print(\"---------------------------------------------------\")\n",
        "  print(\"Opening angle: \\n=\", round(D,5), \"[°]\")\n",
        "  print(\"---------------------------------------------------\")\n",
        "\n",
        "# -----------------------------------------------------------------\n",
        "\n",
        "# Calling the function\n",
        "\n",
        "print(\"Solutions for Q1:\\n\")\n",
        "A_3(238,190,28)\n",
        "\n",
        "print(\"\\n\\n\\nSolutions for Q2:\\n\")\n",
        "A_3(197,410,77)\n",
        "\n",
        "print(\"\\n\\n\\nSolutions for Q3:\\n\")\n",
        "A_3(0.00055,10000,1)\n"
      ],
      "metadata": {
        "colab": {
          "base_uri": "https://localhost:8080/"
        },
        "id": "Ng3n2ZiiFyA1",
        "outputId": "4c9d9aed-c949-4385-881b-ada27ae33ec7"
      },
      "execution_count": 50,
      "outputs": [
        {
          "output_type": "stream",
          "name": "stdout",
          "text": [
            "Solutions for Q1:\n",
            "\n",
            "Magnetic Rigidity: = 17.70409 [Tm]\n",
            "gamma: = 1.203972088030059\n",
            "beta: = 0.5568933055542257\n",
            "---------------------------------------------------\n",
            "Energy loss due to synchrotron radiation per turn:\n",
            "= 3.075493047080485e-27 [J]\n",
            "= 1.919571753279027e-08 [eV]\n",
            "---------------------------------------------------\n",
            "Opening angle: \n",
            "= 47.58896 [°]\n",
            "---------------------------------------------------\n",
            "\n",
            "\n",
            "\n",
            "Solutions for Q2:\n",
            "\n",
            "Magnetic Rigidity: = 8.23665 [Tm]\n",
            "gamma: = 1.440150295222759\n",
            "beta: = 0.7196162622914078\n",
            "---------------------------------------------------\n",
            "Energy loss due to synchrotron radiation per turn:\n",
            "= 1.0273836487506537e-25 [J]\n",
            "= 6.412424290130044e-07 [eV]\n",
            "---------------------------------------------------\n",
            "Opening angle: \n",
            "= 39.78458 [°]\n",
            "---------------------------------------------------\n",
            "\n",
            "\n",
            "\n",
            "Solutions for Q3:\n",
            "\n",
            "Magnetic Rigidity: = 33.35096 [Tm]\n",
            "gamma: = 19570.471624266145\n",
            "beta: = 0.9999999986945284\n",
            "---------------------------------------------------\n",
            "Energy loss due to synchrotron radiation per turn:\n",
            "= 1.5857042334469378e-12 [J]\n",
            "= 9897187.244397163 [eV]\n",
            "---------------------------------------------------\n",
            "Opening angle: \n",
            "= 0.00293 [°]\n",
            "---------------------------------------------------\n"
          ]
        }
      ]
    }
  ]
}

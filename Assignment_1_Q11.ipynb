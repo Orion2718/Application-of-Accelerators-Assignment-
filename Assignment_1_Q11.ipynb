{
  "nbformat": 4,
  "nbformat_minor": 0,
  "metadata": {
    "colab": {
      "provenance": []
    },
    "kernelspec": {
      "name": "python3",
      "display_name": "Python 3"
    },
    "language_info": {
      "name": "python"
    }
  },
  "cells": [
    {
      "cell_type": "markdown",
      "source": [
        "\\\\\n",
        "Q11 - [2 point] Warmup computational exersize: *Create a GitHUB account.*\n",
        "\n",
        "Write a function in Python code that multiples 2 (two) 3x3 Matrices (ndarray) and returns the result.\n",
        "\n",
        "    Call this function using two randomly generated 3 by 3 matrices and print the results.\\\\\n",
        "    Place your code in your GitHUB repository and submit the link in your exercise document. The code can also be in the form of a Jupiter-Notebook on your GitHUB account.\n",
        "\n",
        "Hint: if you have no previous experience with python: it is easy! Hint: if you don't have time to learn python: it doesn't take time!\n",
        "\n",
        "Python code in GitHub, links for the:\n"
      ],
      "metadata": {
        "id": "SD1zgGST6PHX"
      }
    },
    {
      "cell_type": "code",
      "source": [
        "import random\n",
        "import numpy as np\n",
        "\n",
        "def RandMat():\n",
        "  M = np.random.randint(low=0, high=9, size=(3, 3))\n",
        "  print(M,\"\\n\")\n",
        "  return M\n",
        "\n",
        "M1 = RandMat()\n",
        "M2 = RandMat()\n",
        "ma=np.dot(M1,M2)\n",
        "print(ma)"
      ],
      "metadata": {
        "colab": {
          "base_uri": "https://localhost:8080/"
        },
        "id": "rq83DT7LA-WH",
        "outputId": "68654778-4843-46d3-b380-e1dbd9fce7c0"
      },
      "execution_count": 27,
      "outputs": [
        {
          "output_type": "stream",
          "name": "stdout",
          "text": [
            "[[2 3 1]\n",
            " [6 0 0]\n",
            " [3 1 1]] \n",
            "\n",
            "[[8 0 2]\n",
            " [5 2 2]\n",
            " [5 1 5]] \n",
            "\n",
            "[[36  7 15]\n",
            " [48  0 12]\n",
            " [34  3 13]]\n"
          ]
        }
      ]
    },
    {
      "cell_type": "code",
      "source": [
        "# Alternative code I made (Just an extra)\n",
        "\n",
        "\n",
        "import numpy as np\n",
        "\n",
        "def RandMat():\n",
        "  M = np.random.randint(low=0, high=50, size=(3, 3))\n",
        "  print(M,\"\\n\")\n",
        "  return M\n",
        "\n",
        "ma = np.dot(RandMat(),RandMat())\n",
        "print(ma)"
      ],
      "metadata": {
        "colab": {
          "base_uri": "https://localhost:8080/"
        },
        "id": "OerE1zbTFGU7",
        "outputId": "f94d6f3e-5f91-4c56-9f14-ca11c6b4f193"
      },
      "execution_count": 29,
      "outputs": [
        {
          "output_type": "stream",
          "name": "stdout",
          "text": [
            "[[20 24 16]\n",
            " [21 12 48]\n",
            " [19 29 21]] \n",
            "\n",
            "[[40 38 48]\n",
            " [ 3 23 38]\n",
            " [12  0  4]] \n",
            "\n",
            "[[1064 1312 1936]\n",
            " [1452 1074 1656]\n",
            " [1099 1389 2098]]\n"
          ]
        }
      ]
    }
  ]
}